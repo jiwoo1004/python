{
  "nbformat": 4,
  "nbformat_minor": 0,
  "metadata": {
    "colab": {
      "provenance": [],
      "authorship_tag": "ABX9TyNIGr1mbjyysIkqBeFf9EBT",
      "include_colab_link": true
    },
    "kernelspec": {
      "name": "python3",
      "display_name": "Python 3"
    },
    "language_info": {
      "name": "python"
    }
  },
  "cells": [
    {
      "cell_type": "markdown",
      "metadata": {
        "id": "view-in-github",
        "colab_type": "text"
      },
      "source": [
        "<a href=\"https://colab.research.google.com/github/jiwoo1004/python/blob/main/202202782_%EC%9D%B4%EC%A7%80%EC%9A%B0_2.ipynb\" target=\"_parent\"><img src=\"https://colab.research.google.com/assets/colab-badge.svg\" alt=\"Open In Colab\"/></a>"
      ]
    },
    {
      "cell_type": "markdown",
      "source": [
        "질문 1번"
      ],
      "metadata": {
        "id": "9eMwEsG2NMsA"
      }
    },
    {
      "cell_type": "code",
      "execution_count": null,
      "metadata": {
        "colab": {
          "base_uri": "https://localhost:8080/"
        },
        "id": "VGUnmuSm0tvl",
        "outputId": "20e1a183-8b80-49f7-eaef-8ed03ef48efc"
      },
      "outputs": [
        {
          "output_type": "stream",
          "name": "stdout",
          "text": [
            "자연수 한 개를입력하세요.3\n",
            "계속입력을 원하시면, 자연수 한 개를입력하시고, 아니라면 0을입력하세요.24\n",
            "계속입력을 원하시면, 자연수 한 개를입력하시고, 아니라면 0을입력하세요.76\n",
            "계속입력을 원하시면, 자연수 한 개를입력하시고, 아니라면 0을입력하세요.12\n",
            "계속입력을 원하시면, 자연수 한 개를입력하시고, 아니라면 0을입력하세요.87\n",
            "계속입력을 원하시면, 자연수 한 개를입력하시고, 아니라면 0을입력하세요.23\n",
            "계속입력을 원하시면, 자연수 한 개를입력하시고, 아니라면 0을입력하세요.0\n",
            "그만 입력하시고 싶으시군요!\n",
            "당신이 입력한 숫자는 큰 것부터 순서대로 말한다면 아래와 같습니다.\n",
            "87, 76, 24, 23, 12, 3\n"
          ]
        }
      ],
      "source": [
        "##202202782 이지우 질\n",
        "n = input(\"자연수 한 개를입력하세요.\")\n",
        "a=1\n",
        "b=[]\n",
        "\n",
        "while a <= 100 :\n",
        "  if int(n) != 0 :\n",
        "    b=b+[int(n)]\n",
        "    n = input(\"계속입력을 원하시면, 자연수 한 개를입력하시고, 아니라면 0을입력하세요.\")\n",
        "    a+=1\n",
        "  else :\n",
        "    break\n",
        "\n",
        "if a <= 100 :\n",
        "  print(\"그만 입력하시고 싶으시군요!\")\n",
        "else :\n",
        "  print(\"이제 그만 입력하세요. 벌써 100개를 입력했어요.\")\n",
        "\n",
        "print(\"당신이 입력한 숫자는 큰 것부터 순서대로 말한다면 아래와 같습니다.\")\n",
        "\n",
        "for c in range(len(b)) :\n",
        "  d = len(b) - c\n",
        "  for e in range(1, d) :\n",
        "    if b[e-1] <= b[e] :\n",
        "      temp = b[e-1]\n",
        "      b[e-1] = b[e]\n",
        "      b[e] = temp\n",
        "\n",
        "v = str(b)[1:-1]\n",
        "print(v)"
      ]
    },
    {
      "cell_type": "markdown",
      "source": [
        "질문 2번"
      ],
      "metadata": {
        "id": "QNd1_Q0uNKsn"
      }
    },
    {
      "cell_type": "code",
      "source": [
        "##202202782 이지우\n",
        "n = int(input())\n",
        "a = int(0)\n",
        "\n",
        "if n >= 31 :\n",
        "  print(\"너무 많습니다.\")\n",
        "else :\n",
        "  while a < n :\n",
        "    b=\"*\"*a\n",
        "    c=str(a+1)\n",
        "    print(b+c)\n",
        "    a+=1"
      ],
      "metadata": {
        "id": "5yD8th-MNLOk",
        "colab": {
          "base_uri": "https://localhost:8080/"
        },
        "outputId": "fad75fc7-154e-4793-fab1-c98f20939e43"
      },
      "execution_count": null,
      "outputs": [
        {
          "output_type": "stream",
          "name": "stdout",
          "text": [
            "12\n",
            "1\n",
            "*2\n",
            "**3\n",
            "***4\n",
            "****5\n",
            "*****6\n",
            "******7\n",
            "*******8\n",
            "********9\n",
            "*********10\n",
            "**********11\n",
            "***********12\n"
          ]
        }
      ]
    }
  ]
}